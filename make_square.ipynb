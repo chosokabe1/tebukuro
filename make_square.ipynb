{
 "cells": [
  {
   "cell_type": "code",
   "execution_count": 18,
   "metadata": {},
   "outputs": [],
   "source": [
    "def makedir(dir):\n",
    "  if not os.path.exists(dir):\n",
    "    os.makedirs(dir)"
   ]
  },
  {
   "cell_type": "code",
   "execution_count": 19,
   "metadata": {},
   "outputs": [],
   "source": [
    "data_root = \"data/gloves/\"\n",
    "org_img_path = os.path.join(data_root,\"0726\")\n",
    "resize_path = os.path.join(data_root,\"rectangle600\")\n",
    "square_path = os.path.join(data_root,\"square600\")\n",
    "makedir(square_path)\n",
    "makedir(resize_path)\n",
    "square_size = 600"
   ]
  },
  {
   "cell_type": "code",
   "execution_count": 20,
   "metadata": {},
   "outputs": [],
   "source": [
    "import cv2\n",
    "\n",
    "class Img:\n",
    "  def __init__(self, path):\n",
    "    im = cv2.imread(path)\n",
    "    h, w, c = im.shape\n",
    "    self.height = h\n",
    "    self.width = w\n",
    "    self.channel = c"
   ]
  },
  {
   "cell_type": "code",
   "execution_count": 29,
   "metadata": {},
   "outputs": [],
   "source": [
    "import numpy as np\n",
    "import os\n",
    "\n",
    "def padding_0(path, min_size, out_path):\n",
    "  makedir(out_path)\n",
    "\n",
    "  img = cv2.imread(path)\n",
    "  h, w, _ = img.shape\n",
    "  flag = 0\n",
    "  if h < min_size:\n",
    "    newimg = np.zeros((min_size, w, 3))\n",
    "    start = int((min_size - h) / 2)\n",
    "    fin = int((min_size + h) / 2)\n",
    "    newimg[start:fin, :] = img\n",
    "    flag = 1\n",
    "  \n",
    "  if w < min_size:\n",
    "    newimg = np.zeros((h, min_size, 3))\n",
    "    start = int((min_size - w) / 2)\n",
    "    fin = int((min_size + w) / 2)\n",
    "    newimg[:, start:fin] = img\n",
    "    flag = 1\n",
    "\n",
    "  if flag == 1:\n",
    "    file_name = os.path.splitext(os.path.basename(path))[0]\n",
    "    cv2.imwrite(os.path.join(out_path, file_name + '.jpg'), newimg)\n",
    "  else:\n",
    "    file_name = os.path.splitext(os.path.basename(path))[0]\n",
    "    cv2.imwrite(os.path.join(out_path, file_name + '.jpg'), img)\n"
   ]
  },
  {
   "cell_type": "code",
   "execution_count": 22,
   "metadata": {},
   "outputs": [],
   "source": [
    "def scale_box(path, width, height, resize_path):\n",
    "    \"\"\"指定した大きさに収まるように、アスペクト比を固定して、リサイズする。\n",
    "    \"\"\"\n",
    "    makedir(resize_path)\n",
    "    img = cv2.imread(path)\n",
    "    h, w = img.shape[:2]\n",
    "    aspect = w / h\n",
    "    if width / height >= aspect:\n",
    "        nh = height\n",
    "        nw = round(nh * aspect)\n",
    "    else:\n",
    "        nw = width\n",
    "        nh = round(nw / aspect)\n",
    "\n",
    "    dst = cv2.resize(img, dsize=(nw, nh))\n",
    "\n",
    "    file_name = os.path.splitext(os.path.basename(path))[0]\n",
    "    cv2.imwrite(os.path.join(resize_path, file_name + '.jpg'), dst)"
   ]
  },
  {
   "cell_type": "code",
   "execution_count": 30,
   "metadata": {},
   "outputs": [
    {
     "name": "stdout",
     "output_type": "stream",
     "text": [
      "data/gloves/0726\\1\n",
      "1\n",
      "data/gloves/rectangle600\\1\n",
      "data/gloves/0726\\2\n",
      "2\n",
      "data/gloves/rectangle600\\2\n",
      "data/gloves/0726\\3\n",
      "3\n",
      "data/gloves/rectangle600\\3\n",
      "data/gloves/0726\\4\n",
      "4\n",
      "data/gloves/rectangle600\\4\n",
      "data/gloves/0726\\5\n",
      "5\n",
      "data/gloves/rectangle600\\5\n",
      "data/gloves/0726\\bad\n",
      "bad\n",
      "data/gloves/rectangle600\\bad\n",
      "data/gloves/0726\\good\n",
      "good\n",
      "data/gloves/rectangle600\\good\n"
     ]
    }
   ],
   "source": [
    "import glob\n",
    "\n",
    "for class_dir in glob.glob(os.path.join(org_img_path, '**')):\n",
    "  print(class_dir)\n",
    "  print(os.path.basename(class_dir.rstrip(os.sep)))\n",
    "  out_path = os.path.join(resize_path, os.path.basename(class_dir.rstrip(os.sep)))\n",
    "  print(out_path)\n",
    "  square_class_path = os.path.join(square_path, os.path.basename(class_dir.rstrip(os.sep)))\n",
    "  for path in glob.glob(os.path.join(class_dir, '*')):\n",
    "    # scale_box(path, square_size, square_size, out_path)\n",
    "    padding_0(path, square_size, square_class_path)"
   ]
  },
  {
   "cell_type": "code",
   "execution_count": 31,
   "metadata": {},
   "outputs": [
    {
     "name": "stdout",
     "output_type": "stream",
     "text": [
      "data/gloves/rectangle600\\1\n",
      "1\n",
      "data/gloves/rectangle600\\2\n",
      "2\n",
      "data/gloves/rectangle600\\3\n",
      "3\n",
      "data/gloves/rectangle600\\4\n",
      "4\n",
      "data/gloves/rectangle600\\5\n",
      "5\n",
      "data/gloves/rectangle600\\bad\n",
      "bad\n",
      "data/gloves/rectangle600\\good\n",
      "good\n"
     ]
    }
   ],
   "source": [
    "for class_dir in glob.glob(os.path.join(resize_path, '**')):\n",
    "  print(class_dir)\n",
    "  print(os.path.basename(class_dir.rstrip(os.sep)))\n",
    "  square_class_path = os.path.join(square_path, os.path.basename(class_dir.rstrip(os.sep)))\n",
    "  for path in glob.glob(os.path.join(class_dir, '*')):\n",
    "    # scale_box(path, square_size, square_size, out_path)\n",
    "    padding_0(path, square_size, square_class_path)"
   ]
  }
 ],
 "metadata": {
  "kernelspec": {
   "display_name": "Python 3.8.10 ('.tebukuro': venv)",
   "language": "python",
   "name": "python3"
  },
  "language_info": {
   "codemirror_mode": {
    "name": "ipython",
    "version": 3
   },
   "file_extension": ".py",
   "mimetype": "text/x-python",
   "name": "python",
   "nbconvert_exporter": "python",
   "pygments_lexer": "ipython3",
   "version": "3.8.10"
  },
  "orig_nbformat": 4,
  "vscode": {
   "interpreter": {
    "hash": "819acaf75a1369403ed3eb6d7e9a19c94899f0458a36bd5d33118858b325287c"
   }
  }
 },
 "nbformat": 4,
 "nbformat_minor": 2
}
