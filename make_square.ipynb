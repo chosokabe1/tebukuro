{
 "cells": [
  {
   "cell_type": "code",
   "execution_count": 36,
   "metadata": {},
   "outputs": [],
   "source": [
    "def makedir(dir):\n",
    "  if not os.path.exists(dir):\n",
    "    os.makedirs(dir)"
   ]
  },
  {
   "cell_type": "code",
   "execution_count": 37,
   "metadata": {},
   "outputs": [],
   "source": [
    "img_path = \"data/egg\"\n",
    "out_path = \"data/egg_padding_min_600\"\n",
    "makedir(out_path)\n",
    "min_size = 600"
   ]
  },
  {
   "cell_type": "code",
   "execution_count": 38,
   "metadata": {},
   "outputs": [],
   "source": [
    "import cv2\n",
    "\n",
    "class Img:\n",
    "  def __init__(self, path):\n",
    "    im = cv2.imread(path)\n",
    "    h, w, c = im.shape\n",
    "    self.height = h\n",
    "    self.width = w\n",
    "    self.channel = c"
   ]
  },
  {
   "cell_type": "code",
   "execution_count": 39,
   "metadata": {},
   "outputs": [],
   "source": [
    "import numpy as np\n",
    "import os\n",
    "\n",
    "def padding_0(path, min_size, out_path):\n",
    "  img = cv2.imread(path)\n",
    "  h, w, _ = img.shape\n",
    "  flag = 0\n",
    "  if h < min_size:\n",
    "    newimg = np.zeros((min_size, w, 3))\n",
    "    start = int((min_size - h) / 2)\n",
    "    fin = int((min_size + h) / 2)\n",
    "    newimg[start:fin, :] = img\n",
    "    flag = 1\n",
    "  \n",
    "  if w < min_size:\n",
    "    newimg = np.zeros((h, min_size, 3))\n",
    "    start = int((min_size - w) / 2)\n",
    "    fin = int((min_size + w) / 2)\n",
    "    newimg[:, start:fin] = img\n",
    "    flag = 1\n",
    "\n",
    "  if flag == 1:\n",
    "    file_name = os.path.splitext(os.path.basename(path))[0]\n",
    "    cv2.imwrite(os.path.join(out_path, file_name + '.jpg'), newimg)\n",
    "  else:\n",
    "    file_name = os.path.splitext(os.path.basename(path))[0]\n",
    "    cv2.imwrite(os.path.join(out_path, file_name + '.jpg'), img)\n"
   ]
  },
  {
   "cell_type": "code",
   "execution_count": 40,
   "metadata": {},
   "outputs": [],
   "source": [
    "import glob\n",
    "\n",
    "for path in glob.glob(os.path.join(img_path, '*')):\n",
    "  padding_0(path, min_size, out_path)"
   ]
  }
 ],
 "metadata": {
  "kernelspec": {
   "display_name": "Python 3.8.10 ('.sen': venv)",
   "language": "python",
   "name": "python3"
  },
  "language_info": {
   "codemirror_mode": {
    "name": "ipython",
    "version": 3
   },
   "file_extension": ".py",
   "mimetype": "text/x-python",
   "name": "python",
   "nbconvert_exporter": "python",
   "pygments_lexer": "ipython3",
   "version": "3.8.10"
  },
  "orig_nbformat": 4,
  "vscode": {
   "interpreter": {
    "hash": "52c25e5d2c0298585f6976033ea699090aee416a2ac953fc04a260c1a5416d53"
   }
  }
 },
 "nbformat": 4,
 "nbformat_minor": 2
}
